{
 "cells": [
  {
   "cell_type": "markdown",
   "metadata": {
    "extensions": {
     "jupyter_dashboards": {
      "version": 1,
      "views": {
       "grid_default": {
        "col": 0,
        "height": 18,
        "hidden": false,
        "row": 0,
        "width": 12
       },
       "report_default": {
        "hidden": false
       }
      }
     }
    }
   },
   "source": [
    "# Algoritmo \n",
    "\n",
    "Tras entrenar el algoritmo que detecta si un paquete va o no cifrado, se debe hallar un modo de dar un resultado por sesión. Para cumplir este propósito, se desarrolla una clase que es potencialmente desplegable en producción. \n",
    "\n",
    "\n",
    "La clase SessionClasification recibe una sesión bidireccional en formato bytestring (que puede ser TCP o no) y da un coeficiente de cifrado que irá entre -1 y 1. El significado es el siguiente:\n",
    "\n",
    "- No cifrado: -1 \n",
    "- Cifrado: 1\n",
    " \n",
    "Los atributos de la clase son: \n",
    "\n",
    "- lista de variables que sirven para calcular si un paquete está cifrado o no\n",
    "- lista de predicciones para cada sesión (que serán 1 o -1)\n",
    "- lista de tamaño de cada paquete.\n",
    "- coeficiente de cifrado, que es el output final.\n",
    "\n",
    "\n",
    "# Clase potencialmente desplegable \n",
    "Para dar un resultado por sesión, se multiplica la lista con las predicciones y la lista de los tamaños de los paquetes que pertenecen a una sesión. Esto se hace porque hay casos en los que una sesión no está cifrada desde el principio. Por ejemplo, una sesión TCP cifrada puede tener una fase previa de negociación que no lo irá. Sin embargo, esa sesión debería clasificarse como cifrada. Normalmente, los paquetes de la negociación son más pequeños que los de datos cifrados, por lo que el tamaño actúa como un peso que modela el cifrado en una sesión. \n",
    "\n",
    "A continuación, se incluye la clase en cuestión."
   ]
  },
  {
   "cell_type": "code",
   "execution_count": 24,
   "metadata": {},
   "outputs": [],
   "source": [
    "import pandas as pd\n",
    "from scipy import stats\n",
    "import numpy as np\n",
    "import logging\n",
    "from sklearn.metrics import confusion_matrix\n",
    "import matplotlib.pyplot as plt\n",
    "import csv \n",
    "from sklearn import preprocessing\n",
    "from sklearn.externals import joblib\n",
    "from os import walk\n",
    "from sklearn import metrics\n",
    "import imp\n",
    "import packet_processing\n",
    "imp.reload(packet_processing)\n",
    "from packet_processing import * \n"
   ]
  },
  {
   "cell_type": "code",
   "execution_count": 1,
   "metadata": {
    "extensions": {
     "jupyter_dashboards": {
      "version": 1,
      "views": {
       "grid_default": {
        "hidden": true
       },
       "report_default": {
        "hidden": true
       }
      }
     }
    }
   },
   "outputs": [],
   "source": [
    "class SessionClassification:\n",
    "    encryption_coefficient = 0\n",
    "    variables = list()\n",
    "    predictions = list()\n",
    "    lens = list()\n",
    "    session = b''\n",
    "    \n",
    "    def __init__(self,s):\n",
    "        self.session = list()\n",
    "        self.session = iteration(s)\n",
    "        self.variables = list()\n",
    "        self.predictions = list()\n",
    "        self.lens = list()\n",
    "        self.encryption_coefficient = 0\n",
    "\n",
    "    def load_model_gnb(self):\n",
    "        gnb = joblib.load('naive_bayes_model.pkl') \n",
    "        return gnb\n",
    "\n",
    "    def pearsonchisquare_cut(self,observed):\n",
    "        try:\n",
    "            np = sum(observed) / len(observed)\n",
    "            res = sum((observed - np)**2 / np)\n",
    "        except:\n",
    "            res = 10000\n",
    "        if not res >= -0.01:\n",
    "            res = 10000\n",
    "        return  res\n",
    "    \n",
    "    def pearsonchisquare(self, observed):\n",
    "        np = sum(observed) / 256\n",
    "        return sum((observed - np)**2 / np)\n",
    "    \n",
    "    def entropy(self, observed):\n",
    "        observed = np.trim_zeros(np.sort(observed))\n",
    "        sz = sum(observed)\n",
    "        p = observed / sz\n",
    "        ent = -sum(p * np.log(p) / math.log(256))\n",
    "        return ent * 8\n",
    "    \n",
    "    def entropy_cut(self, observed):\n",
    "        try: \n",
    "            observed = np.trim_zeros(np.sort(observed))\n",
    "            sz = sum(observed)\n",
    "            p = observed / sz\n",
    "            ent = -sum(p * np.log(p) / math.log(len(observed)+1))\n",
    "            res = ent * 8\n",
    "        except:\n",
    "            res = 0\n",
    "        return res\n",
    "    \n",
    "    \n",
    "    def preprocess_all_X(self, df):\n",
    "        df[\"chi2\"] = (df[\"chi2\"]+1).apply( np.log)\n",
    "        df[\"mode\"] = (df[\"mode\"]+1).apply( np.log)\n",
    "        df[\"most_ascii\"] = (df[\"most_ascii\"]+1).apply( np.log)\n",
    "        df[\"entropy_cut\"] = (df[\"entropy_cut\"]).apply( np.exp)\n",
    "\n",
    "        x = df.values #returns a numpy array\n",
    "        min_max_scaler = joblib.load('min_max_scaler.pkl') \n",
    "        x_scaled = min_max_scaler.transform(x)\n",
    "        cols = df.columns \n",
    "        ind = df.index\n",
    "        df = pd.DataFrame(x_scaled, columns = cols, index= ind)\n",
    "        return df\n",
    "    \n",
    "    def calculate_mode(self, obs):\n",
    "        mode = np.where(obs ==np.max(obs))[0][0]\n",
    "        return mode\n",
    "\n",
    "    def calculate_obs1(self, paqs):\n",
    "        obs1 = np.bincount(paqs)\n",
    "        return obs1\n",
    "\n",
    "    def calculate_obs2(self, obs):\n",
    "        obs2 = obs\n",
    "        try:\n",
    "            obs2 = obs[1:]\n",
    "            obs2 = obs2[1:]\n",
    "            obs2 = obs2[:-1]\n",
    "            mode2 = np.where(obs2 ==np.max(obs2))[0][0]\n",
    "            obs2 = np.delete(obs2, mode2)\n",
    "        except Exception as e:\n",
    "            pass\n",
    "        return obs2\n",
    "\n",
    "    def calculate_variety(self, obs):\n",
    "        variety = len(obs[obs!=0])\n",
    "        return variety\n",
    "\n",
    "    def calculate_dispersion(self, obs1):\n",
    "        dispersion = len(obs1)\n",
    "        return dispersion \n",
    "\n",
    "    def calculate_most_ascii(self, obs,obs2):\n",
    "        ascii_char = obs[31:127].sum()  + obs[10:14].sum()\n",
    "        most_ascii = ascii_char/(obs2.sum()+1)\n",
    "        return most_ascii\n",
    "\n",
    "    def calculate_most_docx(self, obs, obs2):\n",
    "        docx_char = obs[190:250].sum()\n",
    "        most_docx = docx_char/(obs2.sum()+1)\n",
    "        return most_docx\n",
    "\n",
    "    def calculate_variables(self, obs,paqs):    \n",
    "        mode = self.calculate_mode(obs)\n",
    "        obs1 = self.calculate_obs1(paqs)\n",
    "        obs2 = self.calculate_obs2(obs)\n",
    "        variety = self.calculate_variety(obs)\n",
    "        dispersion = self.calculate_dispersion(obs1)\n",
    "        most_ascii = self.calculate_most_ascii(obs,obs2)\n",
    "        most_docx = self.calculate_most_docx(obs, obs2)\n",
    "        ent = self.entropy(obs)     \n",
    "        ent2 = self.entropy_cut(obs2)\n",
    "        chi2 = self.pearsonchisquare(obs)\n",
    "        mean = np.mean(paqs)\n",
    "        self.variables = [ent, most_ascii, most_docx, ent2, chi2,  mode, dispersion, mean, variety]\n",
    "    \n",
    "    def create_X(self):\n",
    "        pkt_stats = dict()\n",
    "        pkt_stats[\"sessionID\"] = [0]\n",
    "        pkt_stats[\"entropy\"] = [self.variables[0]]\n",
    "        pkt_stats[\"most_ascii\"] = [self.variables[1]]\n",
    "        pkt_stats[\"most_docx\"] = [self.variables[2]]\n",
    "        pkt_stats[\"entropy_cut\"] = [self.variables[3]]\n",
    "        pkt_stats[\"chi2\"] = [self.variables[4]]\n",
    "        pkt_stats[\"mode\"] = self.variables[5]\n",
    "        pkt_stats[\"dispersion\"] = [self.variables[6]]\n",
    "        pkt_stats[\"mean\"] = [self.variables[7]]\n",
    "        pkt_stats[\"variety\"] = [self.variables[8]]\n",
    "        tmp_df = pd.DataFrame(pkt_stats)\n",
    "        tmp_df = tmp_df.set_index(\"sessionID\") \n",
    "        X = self.preprocess_all_X(tmp_df)\n",
    "        return X\n",
    "    \n",
    "    def generate_prediction(self):\n",
    "        ratio = 0\n",
    "        if self.predictions!=[]:\n",
    "            self.predictions = np.array(self.predictions)\n",
    "            if np.mean(self.predictions) == 1.0:\n",
    "                ratio = 1.0\n",
    "                self.encryption_coefficient = ratio\n",
    "            elif np.mean(self.predictions) == -1.0:\n",
    "                ratio = -1.0\n",
    "                self.encryption_coefficient = ratio\n",
    "            elif np.mean(self.predictions[list(self.predictions).index(1):]) == 1:\n",
    "                ratio = 1.0\n",
    "                self.encryption_coefficient = ratio\n",
    "            else:\n",
    "                for f, b in zip(self.predictions, self.lens):\n",
    "                    ratio += f * b\n",
    "                self.encryption_coefficient = math.tanh(ratio)\n",
    "\n",
    "    def  classify_session(self):\n",
    "        gnb = self.load_model_gnb()\n",
    "        paqs = []\n",
    "        for paquete in self.session:\n",
    "            paqs = process_packet_TCP_UDP(paquete,paqs)\n",
    "            paqs = paqs.astype(np.int64)        \n",
    "            if (len(paqs)!= 0) :\n",
    "                obs = np.bincount(paqs,minlength =256)\n",
    "                X = pd.DataFrame()\n",
    "                self.calculate_variables(obs,paqs)\n",
    "                X = self.create_X()\n",
    "                y = gnb.predict(X)\n",
    "                self.predictions.append(y[0])\n",
    "                self.lens.append(len(paqs))        \n",
    "        self.generate_prediction()\n",
    "        \n",
    "        \n",
    "        \n"
   ]
  },
  {
   "cell_type": "markdown",
   "metadata": {
    "extensions": {
     "jupyter_dashboards": {
      "version": 1,
      "views": {
       "grid_default": {
        "col": 0,
        "height": 15,
        "hidden": false,
        "row": 18,
        "width": 12
       },
       "report_default": {
        "hidden": false
       }
      }
     }
    }
   },
   "source": [
    "# Datos utilizados para la fase de test\n",
    "\n",
    "Los PCAPS utilizados para el test provienen de la última parte del PCAP de la muestra de tráfico de edificios, de PCAPS de la web de Wireshark y de tráfico capturado en los Dementores de la plataforma de Hogwarts. \n",
    "\n",
    "# Funciones\n",
    "## Funciones para separar la entrada de datos del algoritmo\n",
    "\n",
    "Para aplicar el algoritmo, se leen los PCAPS que están contenidos en la ruta que se especifique. Esta parte se ha separado del resto del algoritmo con el objetivo de poder cambiar la manera de leer los PCAPS, de modo que se podría utilizar kafka en vez de leer los ficheros de un directorio.\n",
    "\n",
    "Tras aplicar filtros de Wireshark, se selecciona un paquete que se sabe si está cifrado o no y se extra la sesión que lo contiene. Luego se vuelve a analizar la sesión, explorando las cabeceras y/o de forma visual para asegurar que la etiqueta proporcionada es correcta. Se construye una lista con las etiquetas esperadas, dados los PCAPS que se proporcionan para la fase de test. \n",
    "Datos contenidos en los pcaps: \n",
    "- Sesiones: existen sesiones TCP y UDP en los pcaps. \n",
    "- Paquetes con varios archivos: existen paquetes con archivos no cifrados transferidos por SMB (no confundir con SMB3). Se sabe que estos no están cifrados porque se pueden descargar en Wireshark con la opción *Export Objects/SMB*"
   ]
  },
  {
   "cell_type": "code",
   "execution_count": 37,
   "metadata": {
    "extensions": {
     "jupyter_dashboards": {
      "version": 1,
      "views": {
       "grid_default": {
        "hidden": true
       },
       "report_default": {
        "hidden": true
       }
      }
     }
    }
   },
   "outputs": [],
   "source": [
    "def get_paths(mypath):\n",
    "    paths = []\n",
    "    f = []\n",
    "    for (dirpath, dirnames, filenames) in walk(mypath):\n",
    "        break\n",
    "    for f in filenames:\n",
    "        paths.append(mypath+f)\n",
    "    return paths"
   ]
  },
  {
   "cell_type": "markdown",
   "metadata": {
    "extensions": {
     "jupyter_dashboards": {
      "version": 1,
      "views": {
       "grid_default": {
        "col": 0,
        "height": 4,
        "hidden": false,
        "row": 33,
        "width": 4
       },
       "report_default": {
        "hidden": false
       }
      }
     }
    }
   },
   "source": [
    "Esta función lee con Scapy el PCAP en la ruta especificada y llama a la clase que clasifica la sesión. Finalmente, se imprimen los resultados del algoritmo. "
   ]
  },
  {
   "cell_type": "code",
   "execution_count": 38,
   "metadata": {
    "extensions": {
     "jupyter_dashboards": {
      "version": 1,
      "views": {
       "grid_default": {
        "hidden": true
       },
       "report_default": {
        "hidden": true
       }
      }
     }
    }
   },
   "outputs": [],
   "source": [
    "def classify_sessions_in_file(pcap_file):\n",
    "    file = read_file(pcap_file)\n",
    "    sc = SessionClassification(file)\n",
    "    sc.classify_session()\n",
    "    return sc.encryption_coefficient\n"
   ]
  },
  {
   "cell_type": "markdown",
   "metadata": {
    "extensions": {
     "jupyter_dashboards": {
      "version": 1,
      "views": {
       "grid_default": {
        "col": 4,
        "height": 4,
        "hidden": false,
        "row": 33,
        "width": 4
       },
       "report_default": {
        "hidden": false
       }
      }
     }
    }
   },
   "source": [
    "## Funciones para la presentación de métricas del modelo\n",
    "Esta función lee las etiquetas del conjunto de test."
   ]
  },
  {
   "cell_type": "code",
   "execution_count": 39,
   "metadata": {
    "extensions": {
     "jupyter_dashboards": {
      "version": 1,
      "views": {
       "grid_default": {
        "hidden": true
       },
       "report_default": {
        "hidden": true
       }
      }
     }
    }
   },
   "outputs": [],
   "source": [
    "def get_labels():\n",
    "    y = []\n",
    "    with open('labels.csv', 'r') as fp:\n",
    "        reader = csv.reader(fp, delimiter=',')\n",
    "        labels = [row for row in reader]\n",
    "        for item in labels[0]:\n",
    "            y.append(int(item))\n",
    "    return y"
   ]
  },
  {
   "cell_type": "markdown",
   "metadata": {
    "extensions": {
     "jupyter_dashboards": {
      "version": 1,
      "views": {
       "grid_default": {
        "col": 8,
        "height": 4,
        "hidden": false,
        "row": 33,
        "width": 4
       },
       "report_default": {
        "hidden": false
       }
      }
     }
    }
   },
   "source": [
    "Esta función pinta la matriz de confusión. Puede mostrarse con normalización o sin ella. "
   ]
  },
  {
   "cell_type": "code",
   "execution_count": 42,
   "metadata": {
    "extensions": {
     "jupyter_dashboards": {
      "version": 1,
      "views": {
       "grid_default": {
        "hidden": true
       },
       "report_default": {
        "hidden": true
       }
      }
     }
    }
   },
   "outputs": [],
   "source": [
    "def plot_confusion_matrix(cm, classes,\n",
    "                          normalize=False,\n",
    "                          cmap=plt.cm.Blues):\n",
    "    title = \"\"\n",
    "    if normalize:\n",
    "        cm = cm.astype('float') / cm.sum(axis=1)[:, np.newaxis]\n",
    "        title = \"Normalized confusion matrix\"\n",
    "    else:\n",
    "        title = 'Confusion matrix, without normalization'\n",
    "    plt.figure()\n",
    "\n",
    "    plt.imshow(cm, interpolation='nearest', cmap=cmap)\n",
    "    plt.title(title)\n",
    "    plt.colorbar()\n",
    "    tick_marks = np.arange(len(classes))\n",
    "    plt.xticks(tick_marks, classes, rotation=0)\n",
    "    plt.yticks(tick_marks, classes)\n",
    "\n",
    "    fmt = '.2f' if normalize else 'd'\n",
    "    thresh = cm.max() / 2.\n",
    "    for i, j in itertools.product(range(cm.shape[0]), range(cm.shape[1])):\n",
    "        plt.text(j, i, format(cm[i, j], fmt),\n",
    "                 horizontalalignment=\"center\",\n",
    "                 color=\"white\" if cm[i, j] > thresh else \"black\")\n",
    "\n",
    "    plt.tight_layout()\n",
    "    plt.ylabel('True label')\n",
    "    plt.xlabel('Predicted label')\n",
    "    plt.savefig('matriz_confusion.png', dpi = 200) \n",
    "    plt.show()"
   ]
  },
  {
   "cell_type": "markdown",
   "metadata": {
    "extensions": {
     "jupyter_dashboards": {
      "version": 1,
      "views": {
       "grid_default": {
        "col": 0,
        "height": 4,
        "hidden": false,
        "row": 37,
        "width": 4
       },
       "report_default": {
        "hidden": false
       }
      }
     }
    }
   },
   "source": [
    "Esta función pinta la curva ROC"
   ]
  },
  {
   "cell_type": "code",
   "execution_count": 43,
   "metadata": {
    "extensions": {
     "jupyter_dashboards": {
      "version": 1,
      "views": {
       "grid_default": {
        "hidden": true
       },
       "report_default": {
        "hidden": true
       }
      }
     }
    }
   },
   "outputs": [],
   "source": [
    "def plot_roc_curve(y_pred,y):\n",
    "    lw = 2\n",
    "    plt.figure(figsize=(12, 10))\n",
    "    fpr, tpr, thresholds = metrics.roc_curve(y, y_pred, pos_label=1)\n",
    "    roc_auc = metrics.auc(fpr, tpr)\n",
    "    plt.plot(fpr, tpr, color='darkorange',\n",
    "             lw=lw, label='ROC curve (area = %0.2f)' % roc_auc)\n",
    "    plt.plot([0, 1], [0, 1], color='navy', lw=lw, linestyle='--')\n",
    "    plt.xlim([0.0, 1.0])\n",
    "    plt.ylim([0.0, 1.05])\n",
    "    plt.xlabel('False Positive Rate')\n",
    "    plt.ylabel('True Positive Rate')\n",
    "    plt.title('Receiver operating characteristic')\n",
    "    plt.legend(loc=\"lower right\")\n",
    "    plt.savefig('curva_roc.png', dpi = 200) \n",
    "    plt.show()"
   ]
  },
  {
   "cell_type": "markdown",
   "metadata": {
    "extensions": {
     "jupyter_dashboards": {
      "version": 1,
      "views": {
       "grid_default": {
        "col": 4,
        "height": 4,
        "hidden": false,
        "row": 37,
        "width": 4
       },
       "report_default": {
        "hidden": false
       }
      }
     }
    }
   },
   "source": [
    "Esta función calcula las métricas que determinan la precisión y exhaustividad"
   ]
  },
  {
   "cell_type": "code",
   "execution_count": 44,
   "metadata": {
    "extensions": {
     "jupyter_dashboards": {
      "version": 1,
      "views": {
       "grid_default": {
        "hidden": true
       },
       "report_default": {
        "hidden": true
       }
      }
     }
    }
   },
   "outputs": [],
   "source": [
    "def model_accuracy(y_pred, y):\n",
    "    if len(y_pred) == len(y):\n",
    "        tn, fp, fn, tp = confusion_matrix(y, y_pred).ravel()\n",
    "    else:\n",
    "        print(\"The lenghts do not match: Y_pred -> \"+ str(len(y_pred)) +\" and Y ->  \"  + str(len(y)))\n",
    "    tnr = tn/(fp+tn)\n",
    "    tpr = tp/(fn+tp)\n",
    "    precision = tp /(tp+fp)\n",
    "    recall = tp /(tp+fn)\n",
    "    f_measure = 2*(precision * recall) / (precision + recall)\n",
    "    print(\"TNR: \" + str(\"%.2f\" % tnr))\n",
    "    print(\"TPR: \" + str(\"%.2f\" % tpr))\n",
    "    print(\"Precision: \" + str(\"%.2f\" % precision))\n",
    "    print(\"Recall: \" + str(\"%.2f\" % recall))\n",
    "    print(\"F-Measure: \" + str(\"%.2f\" % f_measure))"
   ]
  },
  {
   "cell_type": "markdown",
   "metadata": {
    "extensions": {
     "jupyter_dashboards": {
      "version": 1,
      "views": {
       "grid_default": {
        "col": 0,
        "height": 7,
        "hidden": false,
        "row": 41,
        "width": 12
       },
       "report_default": {
        "hidden": false
       }
      }
     }
    }
   },
   "source": [
    "# Ejecución del algoritmo\n",
    "\n",
    "A la hora de aplicar el algoritmo, se llama a la función que devuelve una lista de rutas. Cada PCAP debe contener una sola sesión. Esta parte puede sustituirse por cualquier otro tipo de entrada, mientras se le pase a la clase una sesión en crudo. \n",
    "\n",
    "Una vez, se le proporciona la ruta donde se encuentra el PCAP a analizar, se llama a la función que lee el PCAP y se lo pasa a la clase **SessionClassification** y se van guardando los resultados en la lista *y_pred* para contrastarlos con los esperados con el fin de medir la efectividad del algoritmo. Esta lista tendrá un output por sesión. "
   ]
  },
  {
   "cell_type": "code",
   "execution_count": 74,
   "metadata": {},
   "outputs": [],
   "source": [
    "def run_algorithm(my_path, label, y, y_pred):\n",
    "    files = get_paths(my_path)\n",
    "    for file in files: \n",
    "        res = classify_sessions_in_file(file)\n",
    "#         print(res, file)\n",
    "        if res != 0:\n",
    "            y_pred.append(res)\n",
    "            y.append(label)\n",
    "            \n",
    "    return y, y_pred"
   ]
  },
  {
   "cell_type": "code",
   "execution_count": 75,
   "metadata": {
    "scrolled": true
   },
   "outputs": [],
   "source": [
    "df = pd.DataFrame()\n",
    "np.seterr(divide='ignore', invalid='ignore')\n",
    "y_pred = list()\n",
    "y = list()\n",
    "my_path = \"/data/pcaps/sessions/non_encr/\"\n",
    "label = -1\n",
    "y, y_pred = run_algorithm(my_path, label, y, y_pred)\n",
    "\n",
    "my_path = \"/data/pcaps/sessions/encr/\"\n",
    "label = 1\n",
    "y, y_pred = run_algorithm(my_path, label, y, y_pred)\n"
   ]
  },
  {
   "cell_type": "markdown",
   "metadata": {
    "extensions": {
     "jupyter_dashboards": {
      "version": 1,
      "views": {
       "grid_default": {
        "col": 0,
        "height": 11,
        "hidden": false,
        "row": 86,
        "width": 12
       },
       "report_default": {
        "hidden": false
       }
      }
     }
    }
   },
   "source": [
    "# Resultados\n",
    "\n",
    "Una vez que se han estudiado las variables, se utiliza Naive Bayes como algoritmo de clasificación. El modelo entrenado se guarda para su posterior uso. \n",
    "\n",
    "Para aplicar el algoritmo, se leen los PCAPS que están contenidos en la ruta que se especifique. Esta parte se ha separado del resto del algoritmo con el objetivo de poder cambiar la manera de leer los PCAPS, de modo que se podría utilizar Kafka en lugar de leer los ficheros de un directorio.\n",
    "\n",
    "Tras aplicar filtros de Wireshark, se selecciona un paquete que se sabe si está cifrado o no y se extrae la sesión que lo contiene. Luego se vuelve a analizar la sesión, explorando las cabeceras y/o de forma visual para asegurar que la etiqueta proporcionada es correcta. Se construye una lista con las etiquetas esperadas, dados los PCAPS que se proporcionan para la fase de test. \n",
    "\n",
    "El falso positivo a nivel de sesión se da en SMB2, cuando hay sesiones que están conformadas de p, que se corta cuando se termina de negociar el certificado. No es una sesión completa, pero hay que tener en cuenta que si la sesión no está entera, pueden haber errores de clasificación.\n",
    "\n",
    "\n",
    "\n",
    "## Métricas del modelo \n",
    "\n",
    "Se calculan los siguientes indicadores: TPR, FPR, Precision, Recall y F-measure\n"
   ]
  },
  {
   "cell_type": "code",
   "execution_count": 71,
   "metadata": {
    "extensions": {
     "jupyter_dashboards": {
      "version": 1,
      "views": {
       "grid_default": {
        "col": 8,
        "height": 4,
        "hidden": false,
        "row": 37,
        "width": 4
       },
       "report_default": {
        "hidden": false
       }
      }
     }
    }
   },
   "outputs": [
    {
     "name": "stdout",
     "output_type": "stream",
     "text": [
      "TNR: 0.97\n",
      "TPR: 1.00\n",
      "Precision: 0.92\n",
      "Recall: 1.00\n",
      "F-Measure: 0.96\n"
     ]
    }
   ],
   "source": [
    "model_accuracy(y_pred, y)"
   ]
  },
  {
   "cell_type": "markdown",
   "metadata": {
    "extensions": {
     "jupyter_dashboards": {
      "version": 1,
      "views": {
       "grid_default": {
        "col": 4,
        "height": 4,
        "hidden": false,
        "row": 48,
        "width": 4
       },
       "report_default": {
        "hidden": false
       }
      }
     }
    }
   },
   "source": [
    "\n",
    "## Matriz de confusión\n",
    "A continuación muestra la matriz de confusión. De 47 sesiones, 1 fue mal clasificada. "
   ]
  },
  {
   "cell_type": "code",
   "execution_count": 72,
   "metadata": {
    "extensions": {
     "jupyter_dashboards": {
      "version": 1,
      "views": {
       "grid_default": {
        "col": 8,
        "height": 11,
        "hidden": false,
        "row": 48,
        "width": 4
       },
       "report_default": {
        "hidden": false
       }
      }
     }
    },
    "scrolled": true
   },
   "outputs": [
    {
     "data": {
      "image/png": "[encoded data removed]",
      "text/plain": [
       "<Figure size 432x288 with 2 Axes>"
      ]
     },
     "metadata": {},
     "output_type": "display_data"
    }
   ],
   "source": [
    "class_names = [-1, 1]\n",
    "cnf_matrix = confusion_matrix(y, y_pred)\n",
    "plot_confusion_matrix(cnf_matrix, classes=class_names, normalize=True)"
   ]
  },
  {
   "cell_type": "markdown",
   "metadata": {
    "extensions": {
     "jupyter_dashboards": {
      "version": 1,
      "views": {
       "grid_default": {
        "col": 0,
        "height": 4,
        "hidden": false,
        "row": 97,
        "width": 12
       },
       "report_default": {
        "hidden": false
       }
      }
     }
    }
   },
   "source": [
    "## Curva ROC \n",
    "La curva de *Característica Operativa del Receptor* es una representación gráfica de la sensibilidad frente a la especificidad para un sistema clasificador binario según se varía el umbral de discriminación. El área bajo la curva ROC es 0.98. "
   ]
  },
  {
   "cell_type": "code",
   "execution_count": 73,
   "metadata": {
    "extensions": {
     "jupyter_dashboards": {
      "version": 1,
      "views": {
       "grid_default": {
        "col": 4,
        "height": 11,
        "hidden": false,
        "row": 52,
        "width": 4
       },
       "report_default": {
        "hidden": false
       }
      }
     }
    }
   },
   "outputs": [
    {
     "data": {
      "image/png": "[encoded data removed]",
      "text/plain": [
       "<Figure size 864x720 with 1 Axes>"
      ]
     },
     "metadata": {},
     "output_type": "display_data"
    }
   ],
   "source": [
    "plot_roc_curve(y_pred,y)"
   ]
  }
 ],
 "metadata": {
  "extensions": {
   "jupyter_dashboards": {
    "activeView": "report_default",
    "version": 1,
    "views": {
     "grid_default": {
      "cellMargin": 10,
      "defaultCellHeight": 20,
      "maxColumns": 12,
      "name": "grid",
      "type": "grid"
     },
     "report_default": {
      "name": "report",
      "type": "report"
     }
    }
   }
  },
  "kernelspec": {
   "display_name": "Python 3",
   "language": "python",
   "name": "python3"
  },
  "language_info": {
   "codemirror_mode": {
    "name": "ipython",
    "version": 3
   },
   "file_extension": ".py",
   "mimetype": "text/x-python",
   "name": "python",
   "nbconvert_exporter": "python",
   "pygments_lexer": "ipython3",
   "version": "3.5.2"
  }
 },
 "nbformat": 4,
 "nbformat_minor": 2
}
